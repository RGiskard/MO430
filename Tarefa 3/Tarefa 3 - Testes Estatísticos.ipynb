{
 "cells": [
  {
   "cell_type": "code",
   "execution_count": 1,
   "id": "56cc609b",
   "metadata": {},
   "outputs": [],
   "source": [
    "import numpy as np\n",
    "#import scipy.stats as stats\n",
    "\n",
    "from scipy import stats\n",
    "\n",
    "import pandas as pd\n",
    "from math import sqrt\n",
    "import os\n"
   ]
  },
  {
   "cell_type": "code",
   "execution_count": 2,
   "id": "6426db42",
   "metadata": {},
   "outputs": [],
   "source": [
    "path = str(os.path.abspath(os.getcwd()))+'\\data'\n",
    "bp_data = pd.read_csv( os.path.join(path, 'bp.csv'))\n",
    "paired_data = pd.read_csv( os.path.join(path, 'paired.csv')) "
   ]
  },
  {
   "cell_type": "code",
   "execution_count": 3,
   "id": "93fc822a",
   "metadata": {
    "scrolled": true
   },
   "outputs": [
    {
     "data": {
      "text/plain": [
       "(200, 2)"
      ]
     },
     "execution_count": 3,
     "metadata": {},
     "output_type": "execute_result"
    }
   ],
   "source": [
    "bp_data.shape"
   ]
  },
  {
   "cell_type": "code",
   "execution_count": 4,
   "id": "ec4f25cb",
   "metadata": {
    "scrolled": false
   },
   "outputs": [
    {
     "data": {
      "text/plain": [
       "(13, 3)"
      ]
     },
     "execution_count": 4,
     "metadata": {},
     "output_type": "execute_result"
    }
   ],
   "source": [
    "paired_data.shape"
   ]
  },
  {
   "cell_type": "code",
   "execution_count": 5,
   "id": "013c9dd7",
   "metadata": {},
   "outputs": [
    {
     "data": {
      "text/html": [
       "<div>\n",
       "<style scoped>\n",
       "    .dataframe tbody tr th:only-of-type {\n",
       "        vertical-align: middle;\n",
       "    }\n",
       "\n",
       "    .dataframe tbody tr th {\n",
       "        vertical-align: top;\n",
       "    }\n",
       "\n",
       "    .dataframe thead th {\n",
       "        text-align: right;\n",
       "    }\n",
       "</style>\n",
       "<table border=\"1\" class=\"dataframe\">\n",
       "  <thead>\n",
       "    <tr style=\"text-align: right;\">\n",
       "      <th></th>\n",
       "      <th>bp</th>\n",
       "      <th>type</th>\n",
       "    </tr>\n",
       "  </thead>\n",
       "  <tbody>\n",
       "    <tr>\n",
       "      <th>0</th>\n",
       "      <td>68</td>\n",
       "      <td>No</td>\n",
       "    </tr>\n",
       "    <tr>\n",
       "      <th>1</th>\n",
       "      <td>70</td>\n",
       "      <td>Yes</td>\n",
       "    </tr>\n",
       "    <tr>\n",
       "      <th>2</th>\n",
       "      <td>82</td>\n",
       "      <td>No</td>\n",
       "    </tr>\n",
       "    <tr>\n",
       "      <th>3</th>\n",
       "      <td>76</td>\n",
       "      <td>No</td>\n",
       "    </tr>\n",
       "    <tr>\n",
       "      <th>4</th>\n",
       "      <td>60</td>\n",
       "      <td>No</td>\n",
       "    </tr>\n",
       "  </tbody>\n",
       "</table>\n",
       "</div>"
      ],
      "text/plain": [
       "   bp type\n",
       "0  68   No\n",
       "1  70  Yes\n",
       "2  82   No\n",
       "3  76   No\n",
       "4  60   No"
      ]
     },
     "execution_count": 5,
     "metadata": {},
     "output_type": "execute_result"
    }
   ],
   "source": [
    "bp_data.head(5)"
   ]
  },
  {
   "cell_type": "code",
   "execution_count": 6,
   "id": "2359b3b8",
   "metadata": {},
   "outputs": [
    {
     "data": {
      "text/html": [
       "<div>\n",
       "<style scoped>\n",
       "    .dataframe tbody tr th:only-of-type {\n",
       "        vertical-align: middle;\n",
       "    }\n",
       "\n",
       "    .dataframe tbody tr th {\n",
       "        vertical-align: top;\n",
       "    }\n",
       "\n",
       "    .dataframe thead th {\n",
       "        text-align: right;\n",
       "    }\n",
       "</style>\n",
       "<table border=\"1\" class=\"dataframe\">\n",
       "  <thead>\n",
       "    <tr style=\"text-align: right;\">\n",
       "      <th></th>\n",
       "      <th>Clone</th>\n",
       "      <th>August</th>\n",
       "      <th>November</th>\n",
       "    </tr>\n",
       "  </thead>\n",
       "  <tbody>\n",
       "    <tr>\n",
       "      <th>0</th>\n",
       "      <td>Balsam_Spire</td>\n",
       "      <td>8.1</td>\n",
       "      <td>11.2</td>\n",
       "    </tr>\n",
       "    <tr>\n",
       "      <th>1</th>\n",
       "      <td>Beaupre</td>\n",
       "      <td>10.0</td>\n",
       "      <td>16.3</td>\n",
       "    </tr>\n",
       "    <tr>\n",
       "      <th>2</th>\n",
       "      <td>Hazendans</td>\n",
       "      <td>16.5</td>\n",
       "      <td>15.3</td>\n",
       "    </tr>\n",
       "    <tr>\n",
       "      <th>3</th>\n",
       "      <td>Hoogvorst</td>\n",
       "      <td>13.6</td>\n",
       "      <td>15.6</td>\n",
       "    </tr>\n",
       "    <tr>\n",
       "      <th>4</th>\n",
       "      <td>Raspalje</td>\n",
       "      <td>9.5</td>\n",
       "      <td>10.5</td>\n",
       "    </tr>\n",
       "  </tbody>\n",
       "</table>\n",
       "</div>"
      ],
      "text/plain": [
       "          Clone  August  November\n",
       "0  Balsam_Spire     8.1      11.2\n",
       "1       Beaupre    10.0      16.3\n",
       "2     Hazendans    16.5      15.3\n",
       "3     Hoogvorst    13.6      15.6\n",
       "4      Raspalje     9.5      10.5"
      ]
     },
     "execution_count": 6,
     "metadata": {},
     "output_type": "execute_result"
    }
   ],
   "source": [
    "paired_data.head(5)"
   ]
  },
  {
   "cell_type": "code",
   "execution_count": 7,
   "id": "809f0aa1",
   "metadata": {},
   "outputs": [
    {
     "name": "stdout",
     "output_type": "stream",
     "text": [
      "<class 'pandas.core.frame.DataFrame'>\n",
      "RangeIndex: 200 entries, 0 to 199\n",
      "Data columns (total 2 columns):\n",
      " #   Column  Non-Null Count  Dtype \n",
      "---  ------  --------------  ----- \n",
      " 0   bp      200 non-null    int64 \n",
      " 1   type    200 non-null    object\n",
      "dtypes: int64(1), object(1)\n",
      "memory usage: 3.2+ KB\n"
     ]
    }
   ],
   "source": [
    "#data on blood pressure (bp)\n",
    "#and whether or not the person is diabetic (type) (diabetic is type = Yes).\n",
    "bp_data.describe()\n",
    "bp_data.info()"
   ]
  },
  {
   "cell_type": "code",
   "execution_count": 8,
   "id": "1ac95ca6",
   "metadata": {},
   "outputs": [],
   "source": [
    "# Clustering in two Clases\n",
    "df_diabetes =bp_data[bp_data['type'] == 'Yes']['bp']\n",
    "df_nodiabetes = bp_data[bp_data['type'] == 'No']['bp']"
   ]
  },
  {
   "cell_type": "markdown",
   "id": "ab66e4e2",
   "metadata": {},
   "source": [
    "# 1. Reporte o p-valor da comparação entre a pressão sangüínea de pessoas diabéticas ou não."
   ]
  },
  {
   "cell_type": "code",
   "execution_count": 9,
   "id": "ec3c7a32",
   "metadata": {},
   "outputs": [],
   "source": [
    "#List to store diferrents test\n",
    "p_value=[]\n",
    "# itens Teste t\n",
    "#https://www.pythonfordatascience.org/independent-samples-t-test-python/\n",
    "#Compute  Teste t\n",
    "p_value.append(stats.ttest_ind(df_diabetes,df_nodiabetes))"
   ]
  },
  {
   "cell_type": "code",
   "execution_count": 10,
   "id": "44d11291",
   "metadata": {},
   "outputs": [],
   "source": [
    "# itens Wilcoxon rank sum\n",
    "#stats.ranksums(x, y, alternative='two-sided', *, axis=0, nan_policy='propagate', keepdims=False)\n",
    "#Compute Wilcoxon rank sum\n",
    "p_value.append(stats.ranksums(df_diabetes,df_nodiabetes))\n"
   ]
  },
  {
   "cell_type": "code",
   "execution_count": 11,
   "id": "476f131d",
   "metadata": {},
   "outputs": [
    {
     "name": "stdout",
     "output_type": "stream",
     "text": [
      ".......\n",
      "Ttest_indResult(statistic=3.001495202122035, pvalue=0.0030323591864622732)\n",
      "RanksumsResult(statistic=3.045797809294312, pvalue=0.0023206383267846886)\n"
     ]
    }
   ],
   "source": [
    "#1. Reporte o p-valor da comparação entre a pressão sangüínea de pessoas diabéticas ou não.\n",
    "print ('.......')\n",
    "print (p_value[0])\n",
    "print (p_value[1])"
   ]
  },
  {
   "cell_type": "markdown",
   "id": "081c2835",
   "metadata": {},
   "source": [
    "# 2. Qual tem a maior pressão média? E maior pressão mediana?"
   ]
  },
  {
   "cell_type": "code",
   "execution_count": 12,
   "id": "42e7b7cb",
   "metadata": {},
   "outputs": [
    {
     "name": "stdout",
     "output_type": "stream",
     "text": [
      "Mean people with diabetes:  74.58823529411765\n",
      "Mean people without diabetes:  69.54545454545455\n",
      "people with diabetes have the highest mean pressure with: 74.58823529411765\n"
     ]
    }
   ],
   "source": [
    "\n",
    "#2. Qual tem a maior pressão média? E maior pressão mediana?\n",
    "\n",
    "media_diabetes = np.mean(df_diabetes,0)\n",
    "media_nodiabetes = np.mean(df_nodiabetes,0)\n",
    "print(\"Mean people with diabetes: \", media_diabetes)\n",
    "print(\"Mean people without diabetes: \", media_nodiabetes)\n",
    "if (media_diabetes>media_nodiabetes):\n",
    "    print(\"people with diabetes have the highest mean pressure with:\", media_diabetes)\n",
    "else:    \n",
    "    print(\"people without diabetes have the highest mean blood pressure:\", media_nodiabetes)"
   ]
  },
  {
   "cell_type": "code",
   "execution_count": 13,
   "id": "44015dad",
   "metadata": {},
   "outputs": [
    {
     "name": "stdout",
     "output_type": "stream",
     "text": [
      "median number of people with diabetes:  76.0\n",
      "median number of people without diabetes:  70.0\n",
      "people with diabetes have the highest median blood pressure: 76.0\n"
     ]
    }
   ],
   "source": [
    "\n",
    "mediana_diabetes = np.median(df_diabetes,0)\n",
    "mediana_nodiabetes = np.median(df_nodiabetes,0)\n",
    "print(\"median number of people with diabetes: \", mediana_diabetes)\n",
    "print(\"median number of people without diabetes: \", mediana_nodiabetes)\n",
    "if (mediana_diabetes>mediana_nodiabetes):\n",
    "    print(\"people with diabetes have the highest median blood pressure:\", mediana_diabetes)\n",
    "else:    \n",
    "    print(\"people without diabetes have the highest median blood pressure:\", mediana_nodiabetes)"
   ]
  },
  {
   "cell_type": "markdown",
   "id": "60d3ad6e",
   "metadata": {},
   "source": [
    "# 3. A diferença é significativa?\n",
    "\n",
    "* In both cases, the p-value was determined to be less than 0.05. For that the difference is significant\n",
    "# Discuta a diferença dos p-valores. Quais dos 2 testes você acha mais apropriado nesse caso?\n",
    "Both p values were very similar with a difference of 0.001\n",
    "For the size of the sample, Student's t test is more reliable than the Wilcoxon rank sum for the case. The sample has an adequate size for the application of Student's t."
   ]
  },
  {
   "cell_type": "code",
   "execution_count": 14,
   "id": "2a69192a",
   "metadata": {},
   "outputs": [
    {
     "data": {
      "text/html": [
       "<div>\n",
       "<style scoped>\n",
       "    .dataframe tbody tr th:only-of-type {\n",
       "        vertical-align: middle;\n",
       "    }\n",
       "\n",
       "    .dataframe tbody tr th {\n",
       "        vertical-align: top;\n",
       "    }\n",
       "\n",
       "    .dataframe thead th {\n",
       "        text-align: right;\n",
       "    }\n",
       "</style>\n",
       "<table border=\"1\" class=\"dataframe\">\n",
       "  <thead>\n",
       "    <tr style=\"text-align: right;\">\n",
       "      <th></th>\n",
       "      <th>Clone</th>\n",
       "      <th>August</th>\n",
       "      <th>November</th>\n",
       "    </tr>\n",
       "  </thead>\n",
       "  <tbody>\n",
       "    <tr>\n",
       "      <th>0</th>\n",
       "      <td>Balsam_Spire</td>\n",
       "      <td>8.1</td>\n",
       "      <td>11.2</td>\n",
       "    </tr>\n",
       "    <tr>\n",
       "      <th>1</th>\n",
       "      <td>Beaupre</td>\n",
       "      <td>10.0</td>\n",
       "      <td>16.3</td>\n",
       "    </tr>\n",
       "    <tr>\n",
       "      <th>2</th>\n",
       "      <td>Hazendans</td>\n",
       "      <td>16.5</td>\n",
       "      <td>15.3</td>\n",
       "    </tr>\n",
       "    <tr>\n",
       "      <th>3</th>\n",
       "      <td>Hoogvorst</td>\n",
       "      <td>13.6</td>\n",
       "      <td>15.6</td>\n",
       "    </tr>\n",
       "    <tr>\n",
       "      <th>4</th>\n",
       "      <td>Raspalje</td>\n",
       "      <td>9.5</td>\n",
       "      <td>10.5</td>\n",
       "    </tr>\n",
       "  </tbody>\n",
       "</table>\n",
       "</div>"
      ],
      "text/plain": [
       "          Clone  August  November\n",
       "0  Balsam_Spire     8.1      11.2\n",
       "1       Beaupre    10.0      16.3\n",
       "2     Hazendans    16.5      15.3\n",
       "3     Hoogvorst    13.6      15.6\n",
       "4      Raspalje     9.5      10.5"
      ]
     },
     "execution_count": 14,
     "metadata": {},
     "output_type": "execute_result"
    }
   ],
   "source": [
    "#3. A diferença é significativa?\n",
    "paired_data.head(5)"
   ]
  },
  {
   "cell_type": "markdown",
   "id": "75de3131",
   "metadata": {},
   "source": [
    "# O arquivo paired.csv contém dados sobre duas medições: em Agosto e em Novembro em 13 lugares diferentes.\n",
    "\n",
    "Use os seguintes testes e responda os itens abaixo:\n",
    "* Test t pareado\n",
    "\n",
    "* Wilcoxon signed rank.1 - Qual o mês com maior média e maior mediana?"
   ]
  },
  {
   "cell_type": "markdown",
   "id": "6b0df85d",
   "metadata": {},
   "source": []
  },
  {
   "cell_type": "code",
   "execution_count": 15,
   "id": "ffd24a24",
   "metadata": {},
   "outputs": [
    {
     "data": {
      "text/plain": [
       "[Ttest_relResult(statistic=-2.3088956550760438, pvalue=0.03955525086687241),\n",
       " WilcoxonResult(statistic=16.0, pvalue=0.039794921875)]"
      ]
     },
     "execution_count": 15,
     "metadata": {},
     "output_type": "execute_result"
    }
   ],
   "source": [
    "# itens \n",
    "#https://statologos.com/prueba-t-de-muestras-emparejadas-python/\n",
    "df_agosto = paired_data['August']\n",
    "df_noviembre = paired_data['November']\n",
    "p_value=[]\n",
    "p_value.append(stats.ttest_rel(df_agosto,df_noviembre))\n",
    "p_value.append(stats.wilcoxon(df_agosto,df_noviembre))\n",
    "p_value"
   ]
  },
  {
   "cell_type": "markdown",
   "id": "24deb1b3",
   "metadata": {},
   "source": [
    "# 1. Qual o mês com maior média e maior mediana?"
   ]
  },
  {
   "cell_type": "code",
   "execution_count": 16,
   "id": "ba98420e",
   "metadata": {},
   "outputs": [
    {
     "name": "stdout",
     "output_type": "stream",
     "text": [
      "media del mes de agosto:  11.423076923076925\n",
      "media del mes de noviembre:  16.323076923076922\n",
      "mediana del mes de agosto:  10.0\n",
      "mediana del mes de noviembre:  15.3\n"
     ]
    }
   ],
   "source": [
    "media_agosto = np.mean(df_agosto,0)\n",
    "media_noviembre = np.mean(df_noviembre,0)\n",
    "print(\"media del mes de agosto: \", media_agosto)\n",
    "print(\"media del mes de noviembre: \", media_noviembre)\n",
    "\n",
    "mediana_agosto = np.median(df_agosto,0)\n",
    "mediana_noviembre = np.median(df_noviembre,0)\n",
    "print(\"mediana del mes de agosto: \", mediana_agosto)\n",
    "print(\"mediana del mes de noviembre: \", mediana_noviembre)\n"
   ]
  },
  {
   "cell_type": "markdown",
   "id": "b94a4f44",
   "metadata": {},
   "source": [
    "* The month with the highest mean and median is November."
   ]
  },
  {
   "cell_type": "markdown",
   "id": "d3262966",
   "metadata": {},
   "source": [
    "# 2. A diferença é significativa?"
   ]
  },
  {
   "cell_type": "code",
   "execution_count": 17,
   "id": "c1613cf8",
   "metadata": {},
   "outputs": [
    {
     "name": "stdout",
     "output_type": "stream",
     "text": [
      ".......\n",
      "Ttest_relResult(statistic=-2.3088956550760438, pvalue=0.03955525086687241)\n",
      "WilcoxonResult(statistic=16.0, pvalue=0.039794921875)\n"
     ]
    }
   ],
   "source": [
    "# 2. A diferença é significativa?\n",
    "p_value\n",
    "print ('.......')\n",
    "print (p_value[0])\n",
    "print (p_value[1])"
   ]
  },
  {
   "cell_type": "markdown",
   "id": "94acee0e",
   "metadata": {},
   "source": [
    "* Yes, because both tests reported a p value less than 0.05."
   ]
  },
  {
   "cell_type": "markdown",
   "id": "6ff6be9e",
   "metadata": {},
   "source": [
    "# 3 - Discuta a diferença dos p-valores. Quais dos 2 testes você acha mais apropriado nesse caso?"
   ]
  },
  {
   "cell_type": "markdown",
   "id": "d612e972",
   "metadata": {},
   "source": [
    "* As the sample is small, non-parametric tests are more suitable. Thus, Wilcoxon is more reliable than Student's t."
   ]
  },
  {
   "cell_type": "markdown",
   "id": "d137a9c4",
   "metadata": {},
   "source": [
    "# Use os dados (não pareados) do dataset bp.csv\n",
    "\n",
    "* Gere o intervalo de confiança para a pressão sangüínea dos pacientes com diabetes e sem diabetes (intervalo de 95% de confiança) usando o método de bootstrap"
   ]
  },
  {
   "cell_type": "code",
   "execution_count": 18,
   "id": "6fd1ce2c",
   "metadata": {},
   "outputs": [
    {
     "name": "stdout",
     "output_type": "stream",
     "text": [
      "Confidence interval for blood pressure in diabetics: ConfidenceInterval(low=71.77941176470588, high=77.29411764705883).\n",
      "Confidence interval for blood pressure in non-diabetics: ConfidenceInterval(low=67.6590909090909, high=71.47727272727273).\n"
     ]
    }
   ],
   "source": [
    "bp_diabeticos = (df_diabetes,)\n",
    "bootstrap_ci = stats.bootstrap(bp_diabeticos, np.mean, confidence_level=0.95, random_state=1, method='BCa')\n",
    "print(f\"Confidence interval for blood pressure in diabetics: {bootstrap_ci.confidence_interval}.\")\n",
    "bp_naoDiabeticos = (df_nodiabetes,)\n",
    "bootstrap_ci = stats.bootstrap(bp_naoDiabeticos, np.mean, confidence_level=0.95, random_state=1, method='BCa')\n",
    "print(f\"Confidence interval for blood pressure in non-diabetics: {bootstrap_ci.confidence_interval}.\")\n"
   ]
  },
  {
   "cell_type": "markdown",
   "id": "35850f0c",
   "metadata": {},
   "source": [
    "# Teste Visual:  \n",
    "* Há intersecção entre os intervalos de confiança dos 2 conjuntos de dados acima (com diabetes e sem diabetes)? Isso está de acordo com o teste de diferença significativa entre eles feito na questão 1?"
   ]
  },
  {
   "cell_type": "markdown",
   "id": "c1f8ff82",
   "metadata": {},
   "source": [
    "* The upper limit of the range for people who do not have diabetes is 71.47, while the lower limit of the range for those who do have diabetes is 71.77. As a result, the conclusion that can be drawn is that the intervals do not intersect with one another. Since the confidence intervals do not overlap, this assertion is supported by the data."
   ]
  },
  {
   "cell_type": "markdown",
   "id": "703a1f7f",
   "metadata": {},
   "source": [
    "# Calcule o Cohen D com o pooled standard deviation para a diferença entre a pressão sangüínea de pacientes com e sem diabetes."
   ]
  },
  {
   "cell_type": "code",
   "execution_count": 19,
   "id": "ac90f48f",
   "metadata": {},
   "outputs": [],
   "source": [
    "def cohend_function(d1, d2):\n",
    "    # compute the size of samples\n",
    "    n1, n2 = len(d1), len(d2)\n",
    "    # compute the variance of the samples\n",
    "    s1, s2 = np.var(d1, ddof=1), np.var(d2, ddof=1)\n",
    "    # calculate the pooled standard deviation\n",
    "    s = sqrt(((n1 - 1) * s1 + (n2 - 1) * s2) / (n1 + n2 - 2))\n",
    "    # calculate the means of the samples\n",
    "    u1, u2 = np.mean(d1), np.mean(d2)\n",
    "    # calculate the effect size\n",
    "    return (u1 - u2) / s\n"
   ]
  },
  {
   "cell_type": "code",
   "execution_count": 20,
   "id": "5fc02b04",
   "metadata": {},
   "outputs": [
    {
     "name": "stdout",
     "output_type": "stream",
     "text": [
      "Cohens'd: 0.448\n"
     ]
    }
   ],
   "source": [
    "d = cohend_function(df_diabetes, df_nodiabetes)\n",
    "print(f\"Cohens'd: {d:.3f}\")"
   ]
  },
  {
   "cell_type": "markdown",
   "id": "0199d8f0",
   "metadata": {},
   "source": [
    "# Com base nos testes, intervalos de confiança, etc realizados acima sobre o dataset bp.csv, qual a sua conclusão sobre pressão arterial em pacientes com ou sem diabetes?"
   ]
  },
  {
   "cell_type": "markdown",
   "id": "196d8928",
   "metadata": {},
   "source": [
    "* It has been shown that diabetics have a mean blood pressure that is significantly higher than that of non-diabetic individuals, and the confidence intervals for these two groups do not cross. Another finding is that diabetes causes an increase in blood pressure."
   ]
  },
  {
   "cell_type": "code",
   "execution_count": null,
   "id": "b0a6e804",
   "metadata": {},
   "outputs": [],
   "source": []
  }
 ],
 "metadata": {
  "kernelspec": {
   "display_name": "Python 3 (ipykernel)",
   "language": "python",
   "name": "python3"
  },
  "language_info": {
   "codemirror_mode": {
    "name": "ipython",
    "version": 3
   },
   "file_extension": ".py",
   "mimetype": "text/x-python",
   "name": "python",
   "nbconvert_exporter": "python",
   "pygments_lexer": "ipython3",
   "version": "3.8.7rc1"
  }
 },
 "nbformat": 4,
 "nbformat_minor": 5
}
