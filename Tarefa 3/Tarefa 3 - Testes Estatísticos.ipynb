{
 "cells": [
  {
   "cell_type": "code",
   "execution_count": 28,
   "id": "56cc609b",
   "metadata": {},
   "outputs": [],
   "source": [
    "import numpy as np\n",
    "#import scipy.stats as stats\n",
    "\n",
    "from scipy import stats\n",
    "\n",
    "import pandas as pd\n",
    "from math import sqrt\n",
    "import os\n"
   ]
  },
  {
   "cell_type": "code",
   "execution_count": 3,
   "id": "6426db42",
   "metadata": {},
   "outputs": [],
   "source": [
    "path = str(os.path.abspath(os.getcwd()))+'\\data'\n",
    "bp_data = pd.read_csv( os.path.join(path, 'bp.csv'))\n",
    "paired_data = pd.read_csv( os.path.join(path, 'paired.csv')) "
   ]
  },
  {
   "cell_type": "code",
   "execution_count": 4,
   "id": "93fc822a",
   "metadata": {
    "scrolled": true
   },
   "outputs": [
    {
     "data": {
      "text/plain": [
       "(200, 2)"
      ]
     },
     "execution_count": 4,
     "metadata": {},
     "output_type": "execute_result"
    }
   ],
   "source": [
    "bp_data.shape"
   ]
  },
  {
   "cell_type": "code",
   "execution_count": 5,
   "id": "ec4f25cb",
   "metadata": {
    "scrolled": false
   },
   "outputs": [
    {
     "data": {
      "text/plain": [
       "(13, 3)"
      ]
     },
     "execution_count": 5,
     "metadata": {},
     "output_type": "execute_result"
    }
   ],
   "source": [
    "paired_data.shape"
   ]
  },
  {
   "cell_type": "code",
   "execution_count": 6,
   "id": "013c9dd7",
   "metadata": {},
   "outputs": [
    {
     "data": {
      "text/html": [
       "<div>\n",
       "<style scoped>\n",
       "    .dataframe tbody tr th:only-of-type {\n",
       "        vertical-align: middle;\n",
       "    }\n",
       "\n",
       "    .dataframe tbody tr th {\n",
       "        vertical-align: top;\n",
       "    }\n",
       "\n",
       "    .dataframe thead th {\n",
       "        text-align: right;\n",
       "    }\n",
       "</style>\n",
       "<table border=\"1\" class=\"dataframe\">\n",
       "  <thead>\n",
       "    <tr style=\"text-align: right;\">\n",
       "      <th></th>\n",
       "      <th>bp</th>\n",
       "      <th>type</th>\n",
       "    </tr>\n",
       "  </thead>\n",
       "  <tbody>\n",
       "    <tr>\n",
       "      <th>0</th>\n",
       "      <td>68</td>\n",
       "      <td>No</td>\n",
       "    </tr>\n",
       "    <tr>\n",
       "      <th>1</th>\n",
       "      <td>70</td>\n",
       "      <td>Yes</td>\n",
       "    </tr>\n",
       "    <tr>\n",
       "      <th>2</th>\n",
       "      <td>82</td>\n",
       "      <td>No</td>\n",
       "    </tr>\n",
       "    <tr>\n",
       "      <th>3</th>\n",
       "      <td>76</td>\n",
       "      <td>No</td>\n",
       "    </tr>\n",
       "    <tr>\n",
       "      <th>4</th>\n",
       "      <td>60</td>\n",
       "      <td>No</td>\n",
       "    </tr>\n",
       "  </tbody>\n",
       "</table>\n",
       "</div>"
      ],
      "text/plain": [
       "   bp type\n",
       "0  68   No\n",
       "1  70  Yes\n",
       "2  82   No\n",
       "3  76   No\n",
       "4  60   No"
      ]
     },
     "execution_count": 6,
     "metadata": {},
     "output_type": "execute_result"
    }
   ],
   "source": [
    "bp_data.head(5)"
   ]
  },
  {
   "cell_type": "code",
   "execution_count": 7,
   "id": "2359b3b8",
   "metadata": {},
   "outputs": [
    {
     "data": {
      "text/html": [
       "<div>\n",
       "<style scoped>\n",
       "    .dataframe tbody tr th:only-of-type {\n",
       "        vertical-align: middle;\n",
       "    }\n",
       "\n",
       "    .dataframe tbody tr th {\n",
       "        vertical-align: top;\n",
       "    }\n",
       "\n",
       "    .dataframe thead th {\n",
       "        text-align: right;\n",
       "    }\n",
       "</style>\n",
       "<table border=\"1\" class=\"dataframe\">\n",
       "  <thead>\n",
       "    <tr style=\"text-align: right;\">\n",
       "      <th></th>\n",
       "      <th>Clone</th>\n",
       "      <th>August</th>\n",
       "      <th>November</th>\n",
       "    </tr>\n",
       "  </thead>\n",
       "  <tbody>\n",
       "    <tr>\n",
       "      <th>0</th>\n",
       "      <td>Balsam_Spire</td>\n",
       "      <td>8.1</td>\n",
       "      <td>11.2</td>\n",
       "    </tr>\n",
       "    <tr>\n",
       "      <th>1</th>\n",
       "      <td>Beaupre</td>\n",
       "      <td>10.0</td>\n",
       "      <td>16.3</td>\n",
       "    </tr>\n",
       "    <tr>\n",
       "      <th>2</th>\n",
       "      <td>Hazendans</td>\n",
       "      <td>16.5</td>\n",
       "      <td>15.3</td>\n",
       "    </tr>\n",
       "    <tr>\n",
       "      <th>3</th>\n",
       "      <td>Hoogvorst</td>\n",
       "      <td>13.6</td>\n",
       "      <td>15.6</td>\n",
       "    </tr>\n",
       "    <tr>\n",
       "      <th>4</th>\n",
       "      <td>Raspalje</td>\n",
       "      <td>9.5</td>\n",
       "      <td>10.5</td>\n",
       "    </tr>\n",
       "  </tbody>\n",
       "</table>\n",
       "</div>"
      ],
      "text/plain": [
       "          Clone  August  November\n",
       "0  Balsam_Spire     8.1      11.2\n",
       "1       Beaupre    10.0      16.3\n",
       "2     Hazendans    16.5      15.3\n",
       "3     Hoogvorst    13.6      15.6\n",
       "4      Raspalje     9.5      10.5"
      ]
     },
     "execution_count": 7,
     "metadata": {},
     "output_type": "execute_result"
    }
   ],
   "source": [
    "paired_data.head(5)"
   ]
  },
  {
   "cell_type": "code",
   "execution_count": 23,
   "id": "809f0aa1",
   "metadata": {},
   "outputs": [
    {
     "name": "stdout",
     "output_type": "stream",
     "text": [
      "<class 'pandas.core.frame.DataFrame'>\n",
      "RangeIndex: 200 entries, 0 to 199\n",
      "Data columns (total 2 columns):\n",
      " #   Column  Non-Null Count  Dtype \n",
      "---  ------  --------------  ----- \n",
      " 0   bp      200 non-null    int64 \n",
      " 1   type    200 non-null    object\n",
      "dtypes: int64(1), object(1)\n",
      "memory usage: 3.2+ KB\n"
     ]
    }
   ],
   "source": [
    "#dados sobre a pressão sanguínea (bp)\n",
    "#e se a pessoa é ou não diabética (type) (diabetico é type = Yes).\n",
    "bp_data.describe()\n",
    "bp_data.info()"
   ]
  },
  {
   "cell_type": "code",
   "execution_count": 24,
   "id": "1ac95ca6",
   "metadata": {},
   "outputs": [],
   "source": [
    "df_diabetes =bp_data[bp_data['type'] == 'Yes']['bp']\n",
    "df_nodiabetes = bp_data[bp_data['type'] == 'No']['bp']"
   ]
  },
  {
   "cell_type": "code",
   "execution_count": 25,
   "id": "ec3c7a32",
   "metadata": {},
   "outputs": [],
   "source": [
    "p_value=[]\n",
    "# itens Teste t\n",
    "#https://www.pythonfordatascience.org/independent-samples-t-test-python/\n",
    "p_value.append(stats.ttest_ind(df_diabetes,df_nodiabetes))"
   ]
  },
  {
   "cell_type": "code",
   "execution_count": 26,
   "id": "44d11291",
   "metadata": {},
   "outputs": [],
   "source": [
    "# itens Wilcoxon rank sum\n",
    "#stats.ranksums(x, y, alternative='two-sided', *, axis=0, nan_policy='propagate', keepdims=False)\n",
    "p_value.append(stats.ranksums(df_diabetes,df_nodiabetes))\n"
   ]
  },
  {
   "cell_type": "code",
   "execution_count": 27,
   "id": "0b2e0306",
   "metadata": {},
   "outputs": [
    {
     "name": "stdout",
     "output_type": "stream",
     "text": [
      "[Ttest_indResult(statistic=3.001495202122035, pvalue=0.0030323591864622732), RanksumsResult(statistic=3.045797809294312, pvalue=0.0023206383267846886)]\n"
     ]
    }
   ],
   "source": [
    "#1. Reporte o p-valor da comparação entre a pressão sangüínea de pessoas diabéticas ou não.\n",
    "print (p_value)"
   ]
  },
  {
   "cell_type": "code",
   "execution_count": 38,
   "id": "42e7b7cb",
   "metadata": {},
   "outputs": [
    {
     "name": "stdout",
     "output_type": "stream",
     "text": [
      "media de personas con diabetes:  74.58823529411765\n",
      "media de personas sin diabetes:  69.54545454545455\n",
      "las personas con diabetes tem a maior pressão média con: 74.58823529411765\n"
     ]
    }
   ],
   "source": [
    "\n",
    "#2. Qual tem a maior pressão média? E maior pressão mediana?\n",
    "\n",
    "media_diabetes = np.mean(df_diabetes,0)\n",
    "media_nodiabetes = np.mean(df_nodiabetes,0)\n",
    "print(\"media de personas con diabetes: \", media_diabetes)\n",
    "print(\"media de personas sin diabetes: \", media_nodiabetes)\n",
    "if (media_diabetes>media_nodiabetes):\n",
    "    print(\"las personas con diabetes tem a maior pressão média con:\", media_diabetes)\n",
    "else:    \n",
    "    print(\"las personas sin diabetes tem a maior pressão média con:\", media_nodiabetes)"
   ]
  },
  {
   "cell_type": "code",
   "execution_count": 41,
   "id": "44015dad",
   "metadata": {},
   "outputs": [
    {
     "name": "stdout",
     "output_type": "stream",
     "text": [
      "mediana de personas con diabetes:  76.0\n",
      "mediana de personas sin diabetes:  70.0\n",
      "las personas con diabetes tem a maior pressão mediana con: 76.0\n"
     ]
    }
   ],
   "source": [
    "\n",
    "mediana_diabetes = np.median(df_diabetes,0)\n",
    "mediana_nodiabetes = np.median(df_nodiabetes,0)\n",
    "print(\"mediana de personas con diabetes: \", mediana_diabetes)\n",
    "print(\"mediana de personas sin diabetes: \", mediana_nodiabetes)\n",
    "if (mediana_diabetes>mediana_nodiabetes):\n",
    "    print(\"las personas con diabetes tem a maior pressão mediana con:\", mediana_diabetes)\n",
    "else:    \n",
    "    print(\"las personas sin diabetes tem a maior pressão mediana con:\", mediana_nodiabetes)"
   ]
  },
  {
   "cell_type": "code",
   "execution_count": 8,
   "id": "2a69192a",
   "metadata": {},
   "outputs": [
    {
     "data": {
      "text/html": [
       "<div>\n",
       "<style scoped>\n",
       "    .dataframe tbody tr th:only-of-type {\n",
       "        vertical-align: middle;\n",
       "    }\n",
       "\n",
       "    .dataframe tbody tr th {\n",
       "        vertical-align: top;\n",
       "    }\n",
       "\n",
       "    .dataframe thead th {\n",
       "        text-align: right;\n",
       "    }\n",
       "</style>\n",
       "<table border=\"1\" class=\"dataframe\">\n",
       "  <thead>\n",
       "    <tr style=\"text-align: right;\">\n",
       "      <th></th>\n",
       "      <th>Clone</th>\n",
       "      <th>August</th>\n",
       "      <th>November</th>\n",
       "    </tr>\n",
       "  </thead>\n",
       "  <tbody>\n",
       "    <tr>\n",
       "      <th>0</th>\n",
       "      <td>Balsam_Spire</td>\n",
       "      <td>8.1</td>\n",
       "      <td>11.2</td>\n",
       "    </tr>\n",
       "    <tr>\n",
       "      <th>1</th>\n",
       "      <td>Beaupre</td>\n",
       "      <td>10.0</td>\n",
       "      <td>16.3</td>\n",
       "    </tr>\n",
       "    <tr>\n",
       "      <th>2</th>\n",
       "      <td>Hazendans</td>\n",
       "      <td>16.5</td>\n",
       "      <td>15.3</td>\n",
       "    </tr>\n",
       "    <tr>\n",
       "      <th>3</th>\n",
       "      <td>Hoogvorst</td>\n",
       "      <td>13.6</td>\n",
       "      <td>15.6</td>\n",
       "    </tr>\n",
       "    <tr>\n",
       "      <th>4</th>\n",
       "      <td>Raspalje</td>\n",
       "      <td>9.5</td>\n",
       "      <td>10.5</td>\n",
       "    </tr>\n",
       "  </tbody>\n",
       "</table>\n",
       "</div>"
      ],
      "text/plain": [
       "          Clone  August  November\n",
       "0  Balsam_Spire     8.1      11.2\n",
       "1       Beaupre    10.0      16.3\n",
       "2     Hazendans    16.5      15.3\n",
       "3     Hoogvorst    13.6      15.6\n",
       "4      Raspalje     9.5      10.5"
      ]
     },
     "execution_count": 8,
     "metadata": {},
     "output_type": "execute_result"
    }
   ],
   "source": [
    "#3. A diferença é significativa?\n",
    "paired_data.head(5)"
   ]
  },
  {
   "cell_type": "code",
   "execution_count": 32,
   "id": "ffd24a24",
   "metadata": {},
   "outputs": [
    {
     "data": {
      "text/plain": [
       "[Ttest_relResult(statistic=-2.3088956550760438, pvalue=0.03955525086687241),\n",
       " WilcoxonResult(statistic=16.0, pvalue=0.039794921875)]"
      ]
     },
     "execution_count": 32,
     "metadata": {},
     "output_type": "execute_result"
    }
   ],
   "source": [
    "# itens \n",
    "#https://statologos.com/prueba-t-de-muestras-emparejadas-python/\n",
    "df_agosto = paired_data['August']\n",
    "df_noviembre = paired_data['November']\n",
    "p_value=[]\n",
    "p_value.append(stats.ttest_rel(df_agosto,df_noviembre))\n",
    "p_value.append(stats.wilcoxon(df_agosto,df_noviembre))\n",
    "p_value"
   ]
  },
  {
   "cell_type": "code",
   "execution_count": 14,
   "id": "ba98420e",
   "metadata": {},
   "outputs": [
    {
     "name": "stdout",
     "output_type": "stream",
     "text": [
      "media del mes de agosto:  11.423076923076925\n",
      "media del mes de noviembre:  16.323076923076922\n",
      "mediana del mes de agosto:  10.0\n",
      "mediana del mes de noviembre:  15.3\n"
     ]
    }
   ],
   "source": [
    "# 1. Qual o mês com maior média e maior mediana?\n",
    "media_agosto = np.mean(df_agosto,0)\n",
    "media_noviembre = np.mean(df_noviembre,0)\n",
    "print(\"media del mes de agosto: \", media_agosto)\n",
    "print(\"media del mes de noviembre: \", media_noviembre)\n",
    "\n",
    "mediana_agosto = np.median(df_agosto,0)\n",
    "mediana_noviembre = np.median(df_noviembre,0)\n",
    "print(\"mediana del mes de agosto: \", mediana_agosto)\n",
    "print(\"mediana del mes de noviembre: \", mediana_noviembre)\n"
   ]
  },
  {
   "cell_type": "code",
   "execution_count": 17,
   "id": "c1613cf8",
   "metadata": {},
   "outputs": [
    {
     "data": {
      "text/plain": [
       "[Ttest_indResult(statistic=-2.293400543711695, pvalue=0.03088448455801124),\n",
       " WilcoxonResult(statistic=16.0, pvalue=0.039794921875)]"
      ]
     },
     "execution_count": 17,
     "metadata": {},
     "output_type": "execute_result"
    }
   ],
   "source": [
    "# 2. A diferença é significativa?\n",
    "p_value"
   ]
  },
  {
   "cell_type": "code",
   "execution_count": null,
   "id": "50199cf5",
   "metadata": {},
   "outputs": [],
   "source": []
  }
 ],
 "metadata": {
  "kernelspec": {
   "display_name": "Python 3 (ipykernel)",
   "language": "python",
   "name": "python3"
  },
  "language_info": {
   "codemirror_mode": {
    "name": "ipython",
    "version": 3
   },
   "file_extension": ".py",
   "mimetype": "text/x-python",
   "name": "python",
   "nbconvert_exporter": "python",
   "pygments_lexer": "ipython3",
   "version": "3.10.7"
  }
 },
 "nbformat": 4,
 "nbformat_minor": 5
}
